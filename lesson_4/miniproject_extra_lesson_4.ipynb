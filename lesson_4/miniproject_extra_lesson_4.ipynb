{
 "cells": [
  {
   "cell_type": "code",
   "execution_count": 1,
   "metadata": {},
   "outputs": [],
   "source": [
    "import os.path\n",
    "import pandas as pd\n",
    "import seaborn as sns\n",
    "import matplotlib.pyplot as plt\n",
    "\n",
    "%matplotlib inline"
   ]
  },
  {
   "cell_type": "markdown",
   "metadata": {},
   "source": [
    "### Получаем необходимый путь"
   ]
  },
  {
   "cell_type": "code",
   "execution_count": 2,
   "metadata": {},
   "outputs": [],
   "source": [
    "file_path = os.getcwd()\n",
    "BASE_DIR = os.path.dirname(os.path.dirname(os.path.abspath(file_path)))"
   ]
  },
  {
   "cell_type": "code",
   "execution_count": 11,
   "metadata": {},
   "outputs": [],
   "source": [
    "SHARED_DIR = os.path.join(BASE_DIR, 'shared')\n",
    "HOMEWORKS_DIR = os.path.join(SHARED_DIR, 'homeworks')\n",
    "PYTHON_MINIPROJECTS_DIR = os.path.join(HOMEWORKS_DIR, 'python_ds_miniprojects')\n",
    "MINIPROJECT_EXTRA_4_DIR = os.path.join(PYTHON_MINIPROJECTS_DIR, '4_inn')\n",
    "table_format = '.xls'\n",
    "check_list_format = '.txt'"
   ]
  },
  {
   "cell_type": "code",
   "execution_count": 12,
   "metadata": {},
   "outputs": [
    {
     "data": {
      "text/plain": [
       "'/home/jupyter-d-barkov/shared/homeworks/python_ds_miniprojects/4_inn'"
      ]
     },
     "execution_count": 12,
     "metadata": {},
     "output_type": "execute_result"
    }
   ],
   "source": [
    "MINIPROJECT_EXTRA_4_DIR"
   ]
  },
  {
   "cell_type": "code",
   "execution_count": 38,
   "metadata": {},
   "outputs": [],
   "source": [
    "for dirpath, dirnames, filenames in os.walk(MINIPROJECT_EXTRA_4_DIR):\n",
    "    for file in filenames:\n",
    "        # open .txt-formatted file as DataFrame and forms a list of neccessary inns for further extraction.\n",
    "        if check_list_format in file:\n",
    "            neccessary_inn_df = pd.read_csv(os.path.join(MINIPROJECT_EXTRA_4_DIR, file), names=['inns'])\n",
    "            neccessary_inns = [i for i in neccessary_inn_df.inns]\n",
    "            continue\n",
    "        # create df from xls. file\n",
    "        data_to_extract_df = pd.read_excel(os.path.join(MINIPROJECT_EXTRA_4_DIR, file)).drop(columns=['Unnamed: 0', '#'])"
   ]
  },
  {
   "cell_type": "code",
   "execution_count": 39,
   "metadata": {},
   "outputs": [],
   "source": [
    "required_inns_df = data_to_extract_df.query(f\"head_inn in {neccessary_inns}\")"
   ]
  },
  {
   "cell_type": "code",
   "execution_count": 42,
   "metadata": {},
   "outputs": [
    {
     "data": {
      "text/plain": [
       "115"
      ]
     },
     "execution_count": 42,
     "metadata": {},
     "output_type": "execute_result"
    }
   ],
   "source": [
    "len(neccessary_inns)"
   ]
  },
  {
   "cell_type": "code",
   "execution_count": 44,
   "metadata": {},
   "outputs": [
    {
     "data": {
      "text/plain": [
       "(115, 18)"
      ]
     },
     "execution_count": 44,
     "metadata": {},
     "output_type": "execute_result"
    }
   ],
   "source": [
    "required_inns_df.shape"
   ]
  },
  {
   "cell_type": "code",
   "execution_count": 45,
   "metadata": {},
   "outputs": [
    {
     "data": {
      "text/plain": [
       "6104522627393"
      ]
     },
     "execution_count": 45,
     "metadata": {},
     "output_type": "execute_result"
    }
   ],
   "source": [
    "required_inns_df['income,RUB'].sum()"
   ]
  },
  {
   "cell_type": "code",
   "execution_count": null,
   "metadata": {},
   "outputs": [],
   "source": []
  }
 ],
 "metadata": {
  "kernelspec": {
   "display_name": "Python 3",
   "language": "python",
   "name": "python3"
  },
  "language_info": {
   "codemirror_mode": {
    "name": "ipython",
    "version": 3
   },
   "file_extension": ".py",
   "mimetype": "text/x-python",
   "name": "python",
   "nbconvert_exporter": "python",
   "pygments_lexer": "ipython3",
   "version": "3.7.3"
  }
 },
 "nbformat": 4,
 "nbformat_minor": 4
}
