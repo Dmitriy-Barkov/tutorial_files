{
 "cells": [
  {
   "cell_type": "code",
   "execution_count": 1,
   "metadata": {},
   "outputs": [],
   "source": [
    "import os.path\n",
    "import pandas as pd\n",
    "import seaborn as sns\n",
    "import matplotlib.pyplot as plt\n",
    "\n",
    "%matplotlib inline"
   ]
  },
  {
   "cell_type": "markdown",
   "metadata": {},
   "source": [
    "### Получаем необходимый путь"
   ]
  },
  {
   "cell_type": "code",
   "execution_count": 2,
   "metadata": {},
   "outputs": [],
   "source": [
    "file_path = os.getcwd()\n",
    "BASE_DIR = os.path.dirname(os.path.dirname(os.path.abspath(file_path)))"
   ]
  },
  {
   "cell_type": "code",
   "execution_count": 10,
   "metadata": {},
   "outputs": [],
   "source": [
    "SHARED_DIR = os.path.join(BASE_DIR, 'shared')\n",
    "HOMEWORKS_DIR = os.path.join(SHARED_DIR, 'homeworks')\n",
    "PYTHON_MINIPROJECTS_DIR = os.path.join(HOMEWORKS_DIR, 'python_ds_miniprojects')\n",
    "MINIPROJECT_EXTRA_5_DIR = os.path.join(PYTHON_MINIPROJECTS_DIR, '5_subsid/subsid')"
   ]
  },
  {
   "cell_type": "code",
   "execution_count": 11,
   "metadata": {},
   "outputs": [
    {
     "data": {
      "text/plain": [
       "'/mnt/HC_Volume_18315164/home-jupyter/jupyter-d-barkov/shared/homeworks/python_ds_miniprojects/5_subsid/subsid'"
      ]
     },
     "execution_count": 11,
     "metadata": {},
     "output_type": "execute_result"
    }
   ],
   "source": [
    "MINIPROJECT_EXTRA_5_DIR"
   ]
  },
  {
   "cell_type": "code",
   "execution_count": 13,
   "metadata": {},
   "outputs": [
    {
     "data": {
      "text/plain": [
       "['prod_activations_logs.csv',\n",
       " 'tm_sales_1.csv',\n",
       " 'tm_sales_2.csv',\n",
       " 'tm_sales_3.csv']"
      ]
     },
     "execution_count": 13,
     "metadata": {},
     "output_type": "execute_result"
    }
   ],
   "source": [
    "os.listdir(MINIPROJECT_EXTRA_5_DIR)"
   ]
  },
  {
   "cell_type": "code",
   "execution_count": 34,
   "metadata": {},
   "outputs": [],
   "source": [
    "df_list = []\n",
    "for file in os.listdir(MINIPROJECT_EXTRA_5_DIR):\n",
    "    path = os.path.join(MINIPROJECT_EXTRA_5_DIR, file)\n",
    "    df_name = f\"{file.split('.')[0]}_df\"\n",
    "    globals()[df_name] = pd.read_csv(path)\n",
    "    df_list.append(df_name)"
   ]
  },
  {
   "cell_type": "code",
   "execution_count": null,
   "metadata": {},
   "outputs": [],
   "source": [
    "df_list"
   ]
  }
 ],
 "metadata": {
  "kernelspec": {
   "display_name": "Python 3",
   "language": "python",
   "name": "python3"
  },
  "language_info": {
   "codemirror_mode": {
    "name": "ipython",
    "version": 3
   },
   "file_extension": ".py",
   "mimetype": "text/x-python",
   "name": "python",
   "nbconvert_exporter": "python",
   "pygments_lexer": "ipython3",
   "version": "3.7.3"
  }
 },
 "nbformat": 4,
 "nbformat_minor": 4
}
